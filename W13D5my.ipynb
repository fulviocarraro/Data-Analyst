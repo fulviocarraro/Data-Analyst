{
 "cells": [
  {
   "cell_type": "markdown",
   "id": "9b2296d0-cfbd-4915-bfd7-523087b72e53",
   "metadata": {},
   "source": [
    "# PYTHON W13D5 - PRATICA"
   ]
  },
  {
   "cell_type": "markdown",
   "id": "6300ef9c-593d-419f-abe2-bf78c811ffdc",
   "metadata": {},
   "source": [
    "## Es. 1"
   ]
  },
  {
   "cell_type": "markdown",
   "id": "7a5800f2-465a-4d6c-aab7-776ddb89d252",
   "metadata": {},
   "source": [
    "Creare, a mano, una lista che contenga i numeri da 0 a 5, memorizzarla in una variabile e infine stamparla a video."
   ]
  },
  {
   "cell_type": "code",
   "execution_count": 1,
   "id": "340c0ed4-f5ba-47d6-9f18-b7fa32181961",
   "metadata": {
    "tags": []
   },
   "outputs": [
    {
     "name": "stdout",
     "output_type": "stream",
     "text": [
      "[0, 1, 2, 3, 4, 5]\n"
     ]
    }
   ],
   "source": [
    "ListaNumeri = [0,1,2,3,4,5]\n",
    "print(ListaNumeri)"
   ]
  },
  {
   "cell_type": "markdown",
   "id": "c9272a08-e2fb-4548-a007-d6f36d1a47d1",
   "metadata": {},
   "source": [
    "## Es. 2"
   ]
  },
  {
   "cell_type": "markdown",
   "id": "aef82769-e390-4bdb-a943-e9f3fbfb4272",
   "metadata": {},
   "source": [
    "Crea, a mano, una lista che contenga tre titoli dei tuoi film preferiti, memorizzarla in una variabile e infine stampala a video."
   ]
  },
  {
   "cell_type": "code",
   "execution_count": 2,
   "id": "105e5631-08b8-486e-b83b-9acb7973d1db",
   "metadata": {
    "tags": []
   },
   "outputs": [
    {
     "name": "stdout",
     "output_type": "stream",
     "text": [
      "['Perfetti Sconosciuti', 'Orphan', 'Interstellar']\n"
     ]
    }
   ],
   "source": [
    "FilmPreferiti = ['Perfetti Sconosciuti', 'Orphan', 'Interstellar']\n",
    "print(FilmPreferiti)"
   ]
  },
  {
   "cell_type": "markdown",
   "id": "354e1339-8f56-4aa7-b5f4-19b20e8dda22",
   "metadata": {},
   "source": [
    "## Es. 3"
   ]
  },
  {
   "cell_type": "markdown",
   "id": "c3711acc-6763-4043-95d5-54ddf6e093f4",
   "metadata": {},
   "source": [
    "Abbiamo la stringa: nome_scuola = \"Epicode\" Stampare l'iniziale."
   ]
  },
  {
   "cell_type": "code",
   "execution_count": 10,
   "id": "5b7886b8-3b8d-4a1a-9378-88f0684c872b",
   "metadata": {
    "tags": []
   },
   "outputs": [
    {
     "name": "stdout",
     "output_type": "stream",
     "text": [
      "o\n"
     ]
    }
   ],
   "source": [
    "nome_scuola = 'Epicode'\n",
    "print(nome_scuola[0])"
   ]
  },
  {
   "cell_type": "markdown",
   "id": "a4cac36f-d343-425e-913d-1317da28d3dc",
   "metadata": {},
   "source": [
    "## Es. 4"
   ]
  },
  {
   "cell_type": "markdown",
   "id": "17db0bf9-ddbf-4a67-8248-3d5cf3505ca6",
   "metadata": {},
   "source": [
    "Abbiamo la stringa: nome_scuola = \"Epicode\" Stampare le prime tre lettere."
   ]
  },
  {
   "cell_type": "code",
   "execution_count": 12,
   "id": "95d50d8c-844a-4c19-a5be-531a6ab061eb",
   "metadata": {
    "tags": []
   },
   "outputs": [
    {
     "name": "stdout",
     "output_type": "stream",
     "text": [
      "Epi\n"
     ]
    }
   ],
   "source": [
    "print(nome_scuola[:3])"
   ]
  },
  {
   "cell_type": "markdown",
   "id": "59a33621-ee30-4520-8bcb-433ad19a1e5d",
   "metadata": {},
   "source": [
    "## Es. 5"
   ]
  },
  {
   "cell_type": "markdown",
   "id": "efee8c7e-d864-42dc-984f-b0c150d010c4",
   "metadata": {},
   "source": [
    "Abbiamo la variabile: x = 10 Incrementarla di 2 e poi moltiplicarla per 3 Usare due metodi diversi (ad esempio, uno utilizzando gli operatori di assegnazione, e uno senza)"
   ]
  },
  {
   "cell_type": "code",
   "execution_count": 32,
   "id": "eaf4c903-fc54-4c8c-a27b-47c91ec32cb2",
   "metadata": {
    "tags": []
   },
   "outputs": [
    {
     "name": "stdout",
     "output_type": "stream",
     "text": [
      "10\n",
      "36\n"
     ]
    }
   ],
   "source": [
    "#metodo 1\n",
    "x=10\n",
    "#print((x+2)*3)\n",
    "#metodo 2\n",
    "print(x)\n",
    "x+=2\n",
    "print(x*3)"
   ]
  },
  {
   "cell_type": "markdown",
   "id": "6aac3be9-e082-4297-adcc-1b0c046016ba",
   "metadata": {},
   "source": [
    "## Es. 6"
   ]
  },
  {
   "cell_type": "markdown",
   "id": "7614cbfe-292a-453e-9fed-05879013cabf",
   "metadata": {},
   "source": [
    "Scriviamo un programma che chiede in input all'utente una stringa e visualizza i primi 3 caratteri, seguiti da 3 punti di sospensione e quindi gli ultimi 3 caratteri."
   ]
  },
  {
   "cell_type": "code",
   "execution_count": 29,
   "id": "2333e790-d266-498b-a9ce-773d155a4f63",
   "metadata": {
    "tags": []
   },
   "outputs": [
    {
     "name": "stdin",
     "output_type": "stream",
     "text": [
      "Scrivi una parola  cazzopalle\n"
     ]
    },
    {
     "name": "stdout",
     "output_type": "stream",
     "text": [
      "caz...lle\n"
     ]
    }
   ],
   "source": [
    "parola = input(\"Scrivi una parola \" )\n",
    "parola_modificata = parola[:3] + '...' + parola[-3:]\n",
    "print(parola_modificata)\n"
   ]
  },
  {
   "cell_type": "markdown",
   "id": "eaf02a0e-4d42-4401-80c9-29b21b2cd6f3",
   "metadata": {},
   "source": [
    "## Es. 7"
   ]
  },
  {
   "cell_type": "markdown",
   "id": "60309260-1e6a-49f4-ad63-d489b16a36e0",
   "metadata": {},
   "source": [
    "Verificare, per ognuna delle seguenti stringhe, se il numero di caratteri è compreso tra 5 e 8: \n",
    "* Windows \n",
    "* Excel \n",
    "* Powerpoint \n",
    "* Word"
   ]
  },
  {
   "cell_type": "code",
   "execution_count": 2,
   "id": "059295db-580a-444d-b169-9251380fabf3",
   "metadata": {
    "tags": []
   },
   "outputs": [],
   "source": [
    "win = \"Windows\"\n",
    "exc = \"Excel\"\n",
    "pwr = \"Powerpoint\"\n",
    "wrd = \"Word\""
   ]
  },
  {
   "cell_type": "code",
   "execution_count": 3,
   "id": "fdfbff27-6e21-498f-a7ed-fd614062d718",
   "metadata": {
    "tags": []
   },
   "outputs": [
    {
     "name": "stdout",
     "output_type": "stream",
     "text": [
      "è compreso tra 5 e 8, figa.\n"
     ]
    }
   ],
   "source": [
    "if len(win) in range(5,9):\n",
    "    print(\"è compreso tra 5 e 8, figa.\")\n",
    "else:\n",
    "    print('non è compreso tra 5 e 8, pota.')\n"
   ]
  },
  {
   "cell_type": "code",
   "execution_count": 34,
   "id": "bd3c12c8-5d76-4a2e-88c1-9885221a4d13",
   "metadata": {
    "collapsed": true,
    "jupyter": {
     "outputs_hidden": true
    },
    "tags": []
   },
   "outputs": [
    {
     "name": "stdout",
     "output_type": "stream",
     "text": [
      "Windows è compreso tra 5 e 8, figa.\n",
      "Excel è compreso tra 5 e 8, figa.\n",
      "Powerpoint non è compreso tra 5 e 8, pota.\n",
      "Word non è compreso tra 5 e 8, pota.\n"
     ]
    }
   ],
   "source": [
    "programmi = [win,exc,pwr,wrd]\n",
    "\n",
    "for parola in programmi:\n",
    "    \n",
    "    if len(parola) >= 5 and len(parola) <= 8:\n",
    "        print(f\"{parola} è compreso tra 5 e 8, figa.\")\n",
    "    else:\n",
    "        print(f\"{parola} non è compreso tra 5 e 8, pota.\")"
   ]
  },
  {
   "cell_type": "markdown",
   "id": "d5bf55e4-acf0-4f0e-81e3-16e84f56b4ff",
   "metadata": {
    "tags": []
   },
   "source": [
    "## Es. 8"
   ]
  },
  {
   "cell_type": "markdown",
   "id": "733ef604-6248-44e8-8ab7-545f04ec7094",
   "metadata": {},
   "source": [
    "Abbiamo la seguente lista di codici prodotto: codici = [\"knt-S1\", \"cba-G9\", \"qtr-Z8\"] Per ognuno dei codici, estrarre la parte finale (gli ultimi tre caratteri, quindi trattino incluso) e memorizzarli in una nuova lista."
   ]
  },
  {
   "cell_type": "code",
   "execution_count": 43,
   "id": "fd7089f2-a2e1-43a9-a311-1a0900f45f0d",
   "metadata": {
    "tags": []
   },
   "outputs": [
    {
     "name": "stdout",
     "output_type": "stream",
     "text": [
      "['-S1', '-G9', '-Z8']\n"
     ]
    }
   ],
   "source": [
    "codici = [\"knt-S1\", \"cba-G9\", \"qtr-Z8\"]\n",
    "nuovi_codici = []\n",
    "\n",
    "for codice in codici:\n",
    "    nuovi_codici.append(codice[-3:])\n",
    "print(nuovi_codici)"
   ]
  },
  {
   "cell_type": "markdown",
   "id": "9b11bfdb-9754-44fe-acc0-79faf900d672",
   "metadata": {},
   "source": [
    "## Es. 9"
   ]
  },
  {
   "cell_type": "markdown",
   "id": "90599a2b-c2dc-4acd-bc51-9aefaa322a9a",
   "metadata": {},
   "source": [
    "Abbiamo un insieme (set) di titoli di azioni \"growth\" (cioè che hanno una crescita dei ricavi maggiore della media): \n",
    "\n",
    "growth = {\"Tesla\", \"Shopify\", \"Block\", \"Etsy\", \"MercadoLibre\", \"Netflix\", \"Amazon\", \"Meta Platforms\", \"Salesforce\", \"Alphabet\"} \n",
    "\n",
    "Abbiamo un insieme di titoli \"value\" (cioè titoli che offrono agli investitori un elevato ritorno sull’investimento, garantendo al contempo stabilità e sicurezza): \n",
    "\n",
    "value = {\"Pfizer\", \"Johnson & Johnson\", \"JPMorgan Chase & Co.\", \"Wells Fargo & Co.\", \"Verizon Communications\", \"BP PLC\", \"LyondellBasell Industries\", \"MetLife\", \"Interactive Brokers Group\", \"Intel\"}\n",
    "\n",
    "Abbiamo un insieme di titoli di aziende ad alta tecnologia: \n",
    "\n",
    "tech = {\"Apple\", \"Microsoft\", \"Alphabet\", \"Amazon\", \"NVIDIA\", \"Meta Platforms\", \"Tesla\", \"Alibaba\", \"Salesforce\", \"Advanced Micro Devices\", \"Intel\", \"PayPal\", \"Activision Blizzard\", \"Electronic Arts\", \"The Trade Desk\", \"Zillow Group\", \"Match Group\", \"Yelp\"} \n",
    "\n",
    "Abbiamo un insieme di titoli di aziende nell'healthcare: \n",
    "\n",
    "healthcare = {\"UnitedHealth Group\", \"Johnson & Johnson\", \"Eli Lilly & Co.\", \"Novo Nordisk\", \"Merck & Co.\", \"Roche Holding\", \"Pfizer\", \"Thermo Fisher Scientific\", \"Abbott Laboratories\"}"
   ]
  },
  {
   "cell_type": "code",
   "execution_count": 4,
   "id": "2320c76b-5ce3-46d9-a6eb-0bfa455a123f",
   "metadata": {
    "tags": []
   },
   "outputs": [],
   "source": [
    "growth = {\"Tesla\", \"Shopify\", \"Block\", \"Etsy\", \"MercadoLibre\", \"Netflix\", \n",
    "          \"Amazon\", \"Meta Platforms\", \"Salesforce\", \"Alphabet\"} \n",
    "\n",
    "value = {\"Pfizer\", \"Johnson & Johnson\", \"JPMorgan Chase & Co.\", \"Wells Fargo & Co.\", \n",
    "         \"Verizon Communications\", \"BP PLC\", \"LyondellBasell Industries\", \"MetLife\", \"Interactive Brokers Group\", \"Intel\"}\n",
    "\n",
    "tech = {\"Apple\", \"Microsoft\", \"Alphabet\", \"Amazon\", \"NVIDIA\", \"Meta Platforms\", \"Tesla\", \"Alibaba\", \"Salesforce\", \n",
    "        \"Advanced Micro Devices\", \"Intel\", \"PayPal\", \"Activision Blizzard\", \"Electronic Arts\", \"The Trade Desk\", \"Zillow Group\", \"Match Group\", \"Yelp\"} \n",
    "\n",
    "healthcare = {\"UnitedHealth Group\", \"Johnson & Johnson\", \"Eli Lilly & Co.\", \"Novo Nordisk\", \n",
    "              \"Merck & Co.\", \"Roche Holding\", \"Pfizer\", \"Thermo Fisher Scientific\", \"Abbott Laboratories\"}"
   ]
  },
  {
   "cell_type": "markdown",
   "id": "3c402529-21f4-46ec-91cc-03d209055ef4",
   "metadata": {},
   "source": [
    "Operazioni sui set:\n",
    "* .add(\"\")\n",
    "* .update([])\n",
    "* .discard(\"\")\n",
    "* .union({}) |\n",
    "* .intersection({}) &\n",
    "* .difference({}) -\n",
    "* .simmetryc_difference({}) ^"
   ]
  },
  {
   "cell_type": "markdown",
   "id": "ea5e1258-d18d-4cb8-b410-fd386358b23a",
   "metadata": {},
   "source": [
    "### Es. 9.1"
   ]
  },
  {
   "cell_type": "markdown",
   "id": "d8e1182b-6fa5-46d1-81bf-c5988d3ad56d",
   "metadata": {},
   "source": [
    "Se voglio diversificare l'investimento, investendo in aziende growth e value, quali sono le aziende?"
   ]
  },
  {
   "cell_type": "code",
   "execution_count": 21,
   "id": "0367ecfd-c91f-46a0-8611-d9d94b990910",
   "metadata": {},
   "outputs": [
    {
     "name": "stdout",
     "output_type": "stream",
     "text": [
      "Aziende growth: {'Block', 'Tesla', 'Alphabet', 'Meta Platforms', 'Etsy', 'Salesforce', 'Netflix', 'Amazon', 'MercadoLibre', 'Shopify'} aziende value: {'Intel', 'Verizon Communications', 'Johnson & Johnson', 'Pfizer', 'LyondellBasell Industries', 'JPMorgan Chase & Co.', 'MetLife', 'BP PLC', 'Interactive Brokers Group', 'Wells Fargo & Co.'}\n"
     ]
    }
   ],
   "source": [
    "print('Aziende growth:', growth,'aziende value:', value)\n",
    "#Aziende_GrowthEValue= [growth.union(value)]\n",
    "#print(Aziende_GrowthEValue)"
   ]
  },
  {
   "cell_type": "markdown",
   "id": "30f6e469-7055-4254-bd02-f692b42abcc7",
   "metadata": {},
   "source": [
    "### Es. 9.2"
   ]
  },
  {
   "cell_type": "markdown",
   "id": "39ad4cb5-c205-4f67-8f2d-c5f5794b3c5f",
   "metadata": {},
   "source": [
    "Quali sono le aziende tecnologiche growth?"
   ]
  },
  {
   "cell_type": "code",
   "execution_count": 23,
   "id": "81bfd6e5-94d1-4946-8b4d-bd03925c9311",
   "metadata": {},
   "outputs": [
    {
     "name": "stdout",
     "output_type": "stream",
     "text": [
      "{'Tesla', 'Alphabet', 'Meta Platforms', 'Salesforce', 'Amazon'}\n"
     ]
    }
   ],
   "source": [
    "print(tech& growth)"
   ]
  },
  {
   "cell_type": "markdown",
   "id": "83dafa3c-8ffe-492e-8415-efb3893e2172",
   "metadata": {},
   "source": [
    "### Es. 9.3"
   ]
  },
  {
   "cell_type": "markdown",
   "id": "b0cc11f0-4cf3-42e3-a5e6-c8bf182a043b",
   "metadata": {},
   "source": [
    "Se voglio investire sia in aziende tecnologiche che value, quali devo considerare?"
   ]
  },
  {
   "cell_type": "code",
   "execution_count": 25,
   "id": "88680531-ed35-4601-bbe3-faf73b03c1cf",
   "metadata": {},
   "outputs": [
    {
     "name": "stdout",
     "output_type": "stream",
     "text": [
      "aziende tech  {'Alphabet', 'Apple', 'Advanced Micro Devices', 'The Trade Desk', 'Amazon', 'Electronic Arts', 'Zillow Group', 'Tesla', 'Intel', 'Alibaba', 'Meta Platforms', 'Salesforce', 'Activision Blizzard', 'Yelp', 'NVIDIA', 'Microsoft', 'Match Group', 'PayPal'} aziende value  {'Intel', 'Verizon Communications', 'Johnson & Johnson', 'Pfizer', 'LyondellBasell Industries', 'JPMorgan Chase & Co.', 'MetLife', 'BP PLC', 'Interactive Brokers Group', 'Wells Fargo & Co.'}\n"
     ]
    }
   ],
   "source": [
    "print('aziende tech ',tech,'aziende value ',value)"
   ]
  },
  {
   "cell_type": "markdown",
   "id": "be6c3e70-b45b-4480-8fba-d5a45452cff9",
   "metadata": {},
   "source": [
    "### Es. 9.4"
   ]
  },
  {
   "cell_type": "markdown",
   "id": "1e9d1271-1051-4f81-a292-57a05880afb6",
   "metadata": {},
   "source": [
    "Creare, a mano, una lista che contenga i numeri da 0 a 5, memorizzarla in una variabile e infine stamparla a video."
   ]
  },
  {
   "cell_type": "markdown",
   "id": "e76ba9df-a1ef-4ecd-91ac-df549176921c",
   "metadata": {},
   "source": [
    "### Es. 9.5"
   ]
  },
  {
   "cell_type": "markdown",
   "id": "6fbcd145-1c56-48c7-836c-8e9c32779ff0",
   "metadata": {},
   "source": [
    "Quali sono i titoli healthcare che non sono value?"
   ]
  },
  {
   "cell_type": "code",
   "execution_count": 26,
   "id": "b6d92ff4-aa64-44d9-a369-8fe2f2f72c30",
   "metadata": {},
   "outputs": [
    {
     "name": "stdout",
     "output_type": "stream",
     "text": [
      "{'Novo Nordisk', 'Roche Holding', 'Abbott Laboratories', 'Thermo Fisher Scientific', 'Merck & Co.', 'UnitedHealth Group', 'Eli Lilly & Co.'}\n"
     ]
    }
   ],
   "source": [
    "print(healthcare- value)"
   ]
  },
  {
   "cell_type": "markdown",
   "id": "438d9b5e-9691-4542-979e-1a11acf36ac4",
   "metadata": {},
   "source": [
    "### Es. 9.6"
   ]
  },
  {
   "cell_type": "markdown",
   "id": "292cb36d-b16b-45a3-ae49-c85902469e14",
   "metadata": {},
   "source": [
    "Ci sono aziende sia tech che healthcare?"
   ]
  },
  {
   "cell_type": "code",
   "execution_count": 32,
   "id": "78c5b479-9756-4d39-a3a8-f95261bd59b8",
   "metadata": {},
   "outputs": [],
   "source": [
    "if (tech& healthcare) == ' ':\n",
    "    print('No.')"
   ]
  },
  {
   "cell_type": "markdown",
   "id": "88f38057-97f7-46e2-afe2-fc3b89965dff",
   "metadata": {},
   "source": [
    "### Es. 9.1"
   ]
  },
  {
   "cell_type": "markdown",
   "id": "706f1c8c-ee8c-41fb-bc4e-74a40ae35654",
   "metadata": {},
   "source": [
    "In quali devo investire se voglio azioni tech ma solo se siano growth o value?"
   ]
  }
 ],
 "metadata": {
  "kernelspec": {
   "display_name": "Python 3 (ipykernel)",
   "language": "python",
   "name": "python3"
  },
  "language_info": {
   "codemirror_mode": {
    "name": "ipython",
    "version": 3
   },
   "file_extension": ".py",
   "mimetype": "text/x-python",
   "name": "python",
   "nbconvert_exporter": "python",
   "pygments_lexer": "ipython3",
   "version": "3.11.5"
  }
 },
 "nbformat": 4,
 "nbformat_minor": 5
}
